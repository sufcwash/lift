{
 "cells": [
  {
   "cell_type": "code",
   "execution_count": 116,
   "metadata": {},
   "outputs": [],
   "source": [
    "import pandas as pd\n",
    "import numpy as np\n",
    "import matplotlib.pyplot as plt\n",
    "import seaborn as sns"
   ]
  },
  {
   "cell_type": "code",
   "execution_count": 117,
   "metadata": {},
   "outputs": [
    {
     "name": "stdout",
     "output_type": "stream",
     "text": [
      "Index(['record_id', 'py', 'state', 'ZIP', 'LIAB_PREM', 'COLL_PREM', 'OTC_PREM',\n",
      "       'PHYSDAM_PREM', 'TOTAL_PREM', 'LIAB_LOSS', 'COLL_LOSS', 'OTC_LOSS',\n",
      "       'PHYSDAM_LOSS', 'TOTAL_LOSS', 'LIAB_EXP', 'COLL_EXP', 'OTC_EXP',\n",
      "       'PHYSDAM_EXP', 'TOTAL_EXP', 'LIAB_CNT', 'COLL_CNT', 'OTC_CNT',\n",
      "       'PHYSDAM_CNT', 'TOTAL_CNT', 'LIAB_LOSS99', 'LIAB_LOSS995', 'OTC_LOSS99',\n",
      "       'OTC_LOSS995', 'COLL_LOSS99', 'COLL_LOSS995', 'TOTAL_LOSS995',\n",
      "       'TOTAL_LOSS99', 'PHYSDAM_LOSS995', 'PHYSDAM_LOSS99', 'liab_ratio',\n",
      "       'coll_ratio', 'otc_ratio', 'VehicleType', 'LIAB_OFFBAL', 'COLL_OFFBAL',\n",
      "       'OTC_OFFBAL', 'coll_newprem', 'OTC_newprem', 'liab_newprem', 'LIAB_BAL',\n",
      "       'COLL_BAL', 'OTC_BAL', 'PHYSDAM_NEWPREM', 'TOTAL_NEWPREM', 'dummy'],\n",
      "      dtype='object')\n"
     ]
    }
   ],
   "source": [
    "# read in data\n",
    "filename1 = 'everest_for_env_lift_analysis.csv'\n",
    "filename2 = 'everest_for_env_lift_analysis.csv'\n",
    "filename3 = 'everest_for_env_lift_analysis.csv'\n",
    "\n",
    "envds = pd.read_csv(filename1)\n",
    "envds['dummy'] = 1\n",
    "print(envds.columns)\n",
    "#print(envds.head())\n",
    "\n",
    "#symds = pd.read_csv(filename2)\n",
    "#symds['dummy'] = 1\n",
    "#print(symds.columns)\n",
    "#print(symds.head())\n",
    "\n",
    "#ocpds = pd.read_csv(filename3)\n",
    "#ocpds['dummy'] = 1\n",
    "#print(ocpds.columns)\n",
    "#print(ocpds.head())"
   ]
  },
  {
   "cell_type": "code",
   "execution_count": 118,
   "metadata": {},
   "outputs": [],
   "source": [
    "def lift(ods, sample, newrel, prem, loss, bars):\n",
    "    # rename columns without modifying original file\n",
    "    ds = ods.rename(columns={newrel : 'newrel', \n",
    "                             prem : 'prem1', \n",
    "                             loss : 'loss1'\n",
    "                             #'expo1': 'expo1',\n",
    "                             #'claim1': 'claim1\n",
    "                            })\n",
    "\n",
    "    # filter for positive newrel records\n",
    "    ds = ds.loc[(ds['newrel'] > 0) & (ds['prem1'] > 0)]\n",
    "\n",
    "    # sort by sample and newrel\n",
    "    ds = ds.sort_values(by=[sample, 'newrel'])\n",
    "    ds = ds.reset_index(drop=True)\n",
    "\n",
    "    # get premium percentile, group into desired number of buckets\n",
    "    ds['prem2'] = ds['prem1'] * ds['newrel']\n",
    "    ds['prem1_perctl'] = ds.groupby(sample).prem1.cumsum() / ds.groupby(sample).prem1.transform('sum')\n",
    "    ds['bars'] = bars\n",
    "    ds['bar'] = np.ceil(ds['bars'] * ds['prem1_perctl']) / ds['bars']\n",
    "\n",
    "    # offbalance by sample\n",
    "    ds['prem2_ob'] = round(\n",
    "        ds['prem2'] * (ds.groupby(sample).prem1.transform('sum') / \n",
    "                ds.groupby(sample).prem2.transform('sum')), 2)\n",
    "\n",
    "    # re-index average LR to 1.0\n",
    "    ds['loss2'] = ds['loss1'] / (ds['loss1'].sum() / ds['prem1'].sum())\n",
    "    #print(ds)\n",
    "\n",
    "    # write out ds\n",
    "    #ds.to_csv('out1.csv')\n",
    "\n",
    "    # summary dataframe\n",
    "    summ_ds = pd.DataFrame()\n",
    "    summ_ds['loss_re'] = ds.groupby('bar').loss2.sum()\n",
    "    summ_ds['loss_ori'] = ds.groupby('bar').loss1.sum()\n",
    "    summ_ds['current_prem'] = ds.groupby('bar').prem1.sum()\n",
    "    summ_ds['current_LR'] = summ_ds['loss_re'] / summ_ds['current_prem']\n",
    "    summ_ds['new_prem'] = ds.groupby('bar').prem2_ob.sum()\n",
    "    summ_ds['new_LR'] = summ_ds['loss_re'] / summ_ds['new_prem'] \n",
    "    summ_ds['bars'] = summ_ds.index\n",
    "    \n",
    "    print(summ_ds)\n",
    "    \n",
    "    # create new dataframe for charting\n",
    "    pd.options.mode.chained_assignment = None\n",
    "    plot_ds = pd.DataFrame()\n",
    "    #ser1 = summ_ds.iloc[:,3]\n",
    "    #ser2 = summ_ds.iloc[:,5]\n",
    "    ser1 = summ_ds.current_LR\n",
    "    ser2 = summ_ds.new_LR \n",
    "    plot_ds['y'] = pd.concat([ser1, ser2])\n",
    "    plot_ds['hue'] = 'dummy'\n",
    "    plot_ds['hue'].iloc[:len(ser1)] = 'Current'\n",
    "    plot_ds['hue'].iloc[len(ser1):] = 'New'\n",
    "    plot_ds['bars'] = plot_ds.index\n",
    "    \n",
    "    print(plot_ds)\n",
    "\n",
    "    # create lift charts\n",
    "    #plt.bar(plot_ds['bars'], plot_ds['current_LR'], color='blue')\n",
    "    #plt.bar(plot_ds['bars'], plot_ds['new_LR'], color='pink')\n",
    "    #plt.show()\n",
    "    g = sns.catplot(x=\"bars\", y=\"y\", hue=\"hue\", data=plot_ds,\n",
    "                height=5, kind=\"bar\", palette=\"muted\", )\n",
    "    g.despine(left=True)\n",
    "    g.set(ylim=(0, 1.5))\n",
    "    g.set_xlabels(\"Premium Quantile\")\n",
    "    g.set_ylabels(\"Loss Ratio\")"
   ]
  },
  {
   "cell_type": "code",
   "execution_count": 119,
   "metadata": {},
   "outputs": [
    {
     "name": "stdout",
     "output_type": "stream",
     "text": [
      "          loss_re     loss_ori  current_prem  current_LR     new_prem  \\\n",
      "bar                                                                     \n",
      "0.2  1.213852e+07   5662650.67  2.539512e+07    0.477986  15755843.98   \n",
      "0.4  2.386422e+07  11132721.69  2.539612e+07    0.939680  20252142.60   \n",
      "0.6  2.728075e+07  12726540.79  2.539588e+07    1.074220  24656536.12   \n",
      "0.8  3.135665e+07  14627957.88  2.539543e+07    1.234736  29814918.63   \n",
      "1.0  3.234013e+07  15086755.65  2.539773e+07    1.273347  36500839.91   \n",
      "\n",
      "       new_LR  bars  \n",
      "bar                  \n",
      "0.2  0.770414   0.2  \n",
      "0.4  1.178355   0.4  \n",
      "0.6  1.106431   0.6  \n",
      "0.8  1.051710   0.8  \n",
      "1.0  0.886011   1.0  \n",
      "            y      hue  bars\n",
      "bar                         \n",
      "0.2  0.477986  Current   0.2\n",
      "0.4  0.939680  Current   0.4\n",
      "0.6  1.074220  Current   0.6\n",
      "0.8  1.234736  Current   0.8\n",
      "1.0  1.273347  Current   1.0\n",
      "0.2  0.770414      New   0.2\n",
      "0.4  1.178355      New   0.4\n",
      "0.6  1.106431      New   0.6\n",
      "0.8  1.051710      New   0.8\n",
      "1.0  0.886011      New   1.0\n",
      "          loss_re    loss_ori  current_prem  current_LR    new_prem    new_LR  \\\n",
      "bar                                                                             \n",
      "0.2  4.802394e+06  3871475.46    4804268.18    0.999610  4093690.54  1.173121   \n",
      "0.4  4.264478e+06  3437832.02    4804452.65    0.887610  4525132.25  0.942399   \n",
      "0.6  5.267238e+06  4246212.42    4803942.26    1.096441  4753484.96  1.108079   \n",
      "0.8  4.390836e+06  3539696.22    4804746.04    0.913854  5025672.45  0.873681   \n",
      "1.0  5.298054e+06  4271054.57    4805591.85    1.102477  5625020.48  0.941873   \n",
      "\n",
      "     bars  \n",
      "bar        \n",
      "0.2   0.2  \n",
      "0.4   0.4  \n",
      "0.6   0.6  \n",
      "0.8   0.8  \n",
      "1.0   1.0  \n",
      "            y      hue  bars\n",
      "bar                         \n",
      "0.2  0.999610  Current   0.2\n",
      "0.4  0.887610  Current   0.4\n",
      "0.6  1.096441  Current   0.6\n",
      "0.8  0.913854  Current   0.8\n",
      "1.0  1.102477  Current   1.0\n",
      "0.2  1.173121      New   0.2\n",
      "0.4  0.942399      New   0.4\n",
      "0.6  1.108079      New   0.6\n",
      "0.8  0.873681      New   0.8\n",
      "1.0  0.941873      New   1.0\n"
     ]
    },
    {
     "data": {
      "image/png": "[encoded data removed]",
      "text/plain": [
       "<Figure size 433.875x360 with 1 Axes>"
      ]
     },
     "metadata": {
      "needs_background": "light"
     },
     "output_type": "display_data"
    },
    {
     "data": {
      "image/png": "[encoded data removed]",
      "text/plain": [
       "<Figure size 433.875x360 with 1 Axes>"
      ]
     },
     "metadata": {
      "needs_background": "light"
     },
     "output_type": "display_data"
    }
   ],
   "source": [
    "#lift(envds, 'dummy', 'liab_ratio', 'LIAB_PREM', 'LIAB_LOSS99', 5)\n",
    "#lift(envds, 'dummy', 'coll_ratio', 'COLL_PREM', 'COLL_LOSS99', 5)\n",
    "lift(envds, 'VehicleType', 'liab_ratio', 'LIAB_PREM', 'LIAB_LOSS99', 5)\n",
    "lift(envds, 'VehicleType', 'coll_ratio', 'COLL_PREM', 'COLL_LOSS99', 5)"
   ]
  },
  {
   "cell_type": "code",
   "execution_count": null,
   "metadata": {},
   "outputs": [],
   "source": []
  }
 ],
 "metadata": {
  "kernelspec": {
   "display_name": "Python 3",
   "language": "python",
   "name": "python3"
  },
  "language_info": {
   "codemirror_mode": {
    "name": "ipython",
    "version": 3
   },
   "file_extension": ".py",
   "mimetype": "text/x-python",
   "name": "python",
   "nbconvert_exporter": "python",
   "pygments_lexer": "ipython3",
   "version": "3.7.0"
  }
 },
 "nbformat": 4,
 "nbformat_minor": 2
}
