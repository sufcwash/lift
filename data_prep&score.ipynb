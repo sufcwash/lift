{
 "cells": [
  {
   "cell_type": "code",
   "execution_count": 85,
   "metadata": {},
   "outputs": [],
   "source": [
    "import pandas as pd\n",
    "import numpy as np\n",
    "import datetime\n",
    "from sas7bdat import SAS7BDAT"
   ]
  },
  {
   "cell_type": "code",
   "execution_count": 86,
   "metadata": {},
   "outputs": [],
   "source": [
    "rockin = pd.ExcelFile('Rockingham 2014-2018 Homeowners Data-Verisk_copy.xlsx')\n",
    "# print(rockin.sheet_names) and load each tab into a df\n",
    "policy = rockin.parse('Policy_Data')\n",
    "EP = rockin.parse('EP')\n",
    "Loss = rockin.parse('Losses')"
   ]
  },
  {
   "cell_type": "code",
   "execution_count": 90,
   "metadata": {},
   "outputs": [],
   "source": [
    "# print(EP.SumOfEARNED.sum()) 76,704,662\n",
    "# print(Loss.INCURRED.sum())  37,388,158\n",
    "\n",
    "EP['EFF_YR'] = EP['A_POL_EFF_DATE'].dt.year\n",
    "EP2 = EP.groupby(['A_POLICY_NO','EFF_YR']).SumOfEARNED.sum().reset_index()\n",
    "# print(EP2.EFF_YR.count()) 127187\n",
    "\n",
    "Loss['EFF_YR'] = Loss['POL_EFF_DATE'].dt.year\n",
    "# Loss = Loss.drop(columns=['EFF_YR']) # OCCUR_NUMBER, POL_EFF_DATE, CAUSE\n",
    "Loss2 = Loss.groupby(['POLICY_NUMBER', 'EFF_YR']).INCURRED.sum().reset_index()\n",
    "# print(Loss2.EFF_YR.count()) 4009\n",
    "# print(Loss2.head())\n",
    "# print(Loss2.INCURRED.sum()) 37388157.78\n",
    "\n",
    "EPANDLOSS = EP2.merge(Loss2, left_on=['A_POLICY_NO', 'EFF_YR'], right_on=['POLICY_NUMBER', 'EFF_YR'], how='left')\n",
    "# print(EPANDLOSS.EFF_YR.count()) 127187\n",
    "# print(EPANDLOSS.INCURRED.sum()) 37308662.44\n",
    "\n",
    "policy = policy[(policy.FORM == 3)]\n",
    "policy = policy.drop_duplicates(subset=['POLICY_NUMBER'])\n",
    "# print(policy.STATE.count()) 25283\n",
    "# print(policy.head())\n",
    "\n",
    "ALLTHREE = EPANDLOSS.merge(policy, left_on=['A_POLICY_NO',], right_on=['POLICY_NUMBER'], how='inner')\n",
    "ALLTHREE = ALLTHREE[['A_POLICY_NO', 'EFF_YR', 'SumOfEARNED', 'INCURRED', 'STATE', 'ZIPCODE', \n",
    "                     'YEAR_BUILT', 'COV_A_AMOUNT', 'DEDUCTIBLE']]\n",
    "# print(ALLTHREE.A_POLICY_NO.count()) 105777\n",
    "# print(ALLTHREE.INCURRED.sum()) 30523804.0\n",
    "\n",
    "LOSSBYYR = ALLTHREE.groupby(['EFF_YR']).INCURRED.sum()\n",
    "PREMBYYR = ALLTHREE.groupby(['EFF_YR']).SumOfEARNED.sum()\n",
    "# print(LOSSBYYR)\n",
    "# print(PREMBYYR)\n",
    "\n",
    "ALLTHREE.to_csv('Rockingham_MERGED.csv')\n"
   ]
  },
  {
   "cell_type": "code",
   "execution_count": null,
   "metadata": {},
   "outputs": [],
   "source": [
    "# read in score table and format for lift calculation\n",
    "with SAS7BDAT('') as file:\n",
    "    scoretb = \n",
    "#"
   ]
  }
 ],
 "metadata": {
  "kernelspec": {
   "display_name": "Python 3",
   "language": "python",
   "name": "python3"
  },
  "language_info": {
   "codemirror_mode": {
    "name": "ipython",
    "version": 3
   },
   "file_extension": ".py",
   "mimetype": "text/x-python",
   "name": "python",
   "nbconvert_exporter": "python",
   "pygments_lexer": "ipython3",
   "version": "3.7.0"
  }
 },
 "nbformat": 4,
 "nbformat_minor": 2
}
